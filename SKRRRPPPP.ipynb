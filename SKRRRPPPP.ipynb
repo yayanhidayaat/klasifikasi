{
  "nbformat": 4,
  "nbformat_minor": 0,
  "metadata": {
    "colab": {
      "provenance": [],
      "authorship_tag": "ABX9TyN43EtRqb4+mkZgUWgQbI2F",
      "include_colab_link": true
    },
    "kernelspec": {
      "name": "python3",
      "display_name": "Python 3"
    },
    "language_info": {
      "name": "python"
    }
  },
  "cells": [
    {
      "cell_type": "markdown",
      "metadata": {
        "id": "view-in-github",
        "colab_type": "text"
      },
      "source": [
        "<a href=\"https://colab.research.google.com/github/yayanhidayaat/klasifikasi/blob/main/SKRRRPPPP.ipynb\" target=\"_parent\"><img src=\"https://colab.research.google.com/assets/colab-badge.svg\" alt=\"Open In Colab\"/></a>"
      ]
    },
    {
      "cell_type": "code",
      "source": [
        "import os\n",
        "import zipfile\n",
        "import shutil\n",
        "from pathlib import Path\n",
        "import pickle\n",
        "from google.colab import drive\n",
        "\n",
        "drive.mount('/content/drive', force_remount=True)\n",
        "\n",
        "# 🔹 Path dataset di Google Drive dan lokal\n",
        "GDRIVE_DATASET_PATH = \"/content/drive/Shareddrives/STORE ASYFA/Yayan/riceleafs\"\n",
        "LOCAL_DATASET_PATH = \"/content/riceleafs\"\n",
        "ZIP_FILE_PATH = \"/content/riceleafs.zip\"\n",
        "RUNTIME_FILE = \"/content/drive/Shareddrives/STORE ASYFA/Yayan/runtime.pkl\"\n",
        "KAGGLE_JSON_PATH = \"/content/drive/Shareddrives/STORE ASYFA/Yayan/kaggle.json\"\n",
        "\n",
        "def check_and_copy_dataset():\n",
        "    if os.path.exists(GDRIVE_DATASET_PATH) and len(os.listdir(GDRIVE_DATASET_PATH)) > 0:\n",
        "        print(\"✅ Dataset ditemukan di Google Drive! Menyalin ke lokal...\")\n",
        "        if os.path.exists(LOCAL_DATASET_PATH):\n",
        "            shutil.rmtree(LOCAL_DATASET_PATH)\n",
        "        shutil.copytree(GDRIVE_DATASET_PATH, LOCAL_DATASET_PATH)\n",
        "    else:\n",
        "        download_dataset_from_kaggle()\n",
        "\n",
        "def download_dataset_from_kaggle():\n",
        "    print(\"⚠️ Dataset belum ada di Google Drive. Mengunduh dari Kaggle...\")\n",
        "    !pip install -q kaggle\n",
        "    kaggle_config_dir = \"/root/.kaggle\"\n",
        "    os.makedirs(kaggle_config_dir, exist_ok=True)\n",
        "    if os.path.exists(KAGGLE_JSON_PATH):\n",
        "        shutil.copy(KAGGLE_JSON_PATH, os.path.join(kaggle_config_dir, \"kaggle.json\"))\n",
        "        os.chmod(os.path.join(kaggle_config_dir, \"kaggle.json\"), 0o600)\n",
        "    else:\n",
        "        raise FileNotFoundError(\"❌ kaggle.json tidak ditemukan di Google Drive!\")\n",
        "    if not os.path.exists(ZIP_FILE_PATH):\n",
        "        print(\"🔽 Mengunduh dataset dari Kaggle...\")\n",
        "        os.system(f\"kaggle datasets download -d shayanriyaz/riceleafs -p /content\")\n",
        "    extract_and_save_dataset()\n",
        "\n",
        "def extract_and_save_dataset():\n",
        "    if not os.path.exists(ZIP_FILE_PATH):\n",
        "        raise FileNotFoundError(f\"❌ Gagal mengunduh dataset. File {ZIP_FILE_PATH} tidak ditemukan!\")\n",
        "    print(\"📂 Mengekstrak dataset...\")\n",
        "    os.makedirs(LOCAL_DATASET_PATH, exist_ok=True)\n",
        "    with zipfile.ZipFile(ZIP_FILE_PATH, 'r') as zip_ref:\n",
        "        zip_ref.extractall(LOCAL_DATASET_PATH)\n",
        "    print(\"💾 Menyimpan dataset ke Google Drive...\")\n",
        "    os.makedirs(GDRIVE_DATASET_PATH, exist_ok=True)\n",
        "    shutil.copytree(LOCAL_DATASET_PATH, GDRIVE_DATASET_PATH, dirs_exist_ok=True)\n",
        "\n",
        "def select_correct_dataset_folder():\n",
        "    folder_option1 = os.path.join(LOCAL_DATASET_PATH, \"RiceLeafs\")\n",
        "    folder_option2 = os.path.join(LOCAL_DATASET_PATH, \"riceleafs\")\n",
        "    if os.path.exists(folder_option1):\n",
        "        return folder_option1\n",
        "    elif os.path.exists(folder_option2):\n",
        "        return folder_option2\n",
        "    else:\n",
        "        raise FileNotFoundError(f\"❌ Tidak ditemukan folder 'RiceLeafs' atau 'riceleafs' di dalam {LOCAL_DATASET_PATH}\")\n",
        "\n",
        "def save_runtime_data():\n",
        "    runtime_data = {\"dataset_downloaded\": True, \"download_path\": LOCAL_DATASET_PATH}\n",
        "    with open(RUNTIME_FILE, \"wb\") as f:\n",
        "        pickle.dump(runtime_data, f)\n",
        "\n",
        "check_and_copy_dataset()\n",
        "dataset_path = select_correct_dataset_folder()\n",
        "save_runtime_data()\n",
        "\n",
        "print(f\"\\n✅ Dataset siap digunakan! Folder yang dipilih: {dataset_path}\")\n",
        "print(\"📂 Isi folder dataset:\", os.listdir(dataset_path))\n"
      ],
      "metadata": {
        "colab": {
          "base_uri": "https://localhost:8080/"
        },
        "id": "yZa64Z6SGxvG",
        "outputId": "e165136e-fd7c-4209-e532-6c2cc58b2577"
      },
      "execution_count": 1,
      "outputs": [
        {
          "output_type": "stream",
          "name": "stdout",
          "text": [
            "Mounted at /content/drive\n",
            "⚠️ Dataset belum ada di Google Drive. Mengunduh dari Kaggle...\n",
            "🔽 Mengunduh dataset dari Kaggle...\n",
            "📂 Mengekstrak dataset...\n",
            "💾 Menyimpan dataset ke Google Drive...\n",
            "\n",
            "✅ Dataset siap digunakan! Folder yang dipilih: /content/riceleafs/RiceLeafs\n",
            "📂 Isi folder dataset: ['train', 'validation']\n"
          ]
        }
      ]
    },
    {
      "cell_type": "code",
      "execution_count": 2,
      "metadata": {
        "id": "0MXJdBqiE6Kb",
        "colab": {
          "base_uri": "https://localhost:8080/"
        },
        "outputId": "9c70979f-9703-4b5a-b057-bb92bbcb37ca"
      },
      "outputs": [
        {
          "output_type": "stream",
          "name": "stdout",
          "text": [
            "✅ Path dataset dan penyimpanan preprocessing telah disiapkan!\n"
          ]
        }
      ],
      "source": [
        "import os\n",
        "from pathlib import Path\n",
        "from tqdm import tqdm\n",
        "import numpy as np\n",
        "import pandas as pd\n",
        "import seaborn as sns\n",
        "import matplotlib.pyplot as plt\n",
        "from tensorflow.keras.preprocessing.image import load_img, img_to_array, save_img\n",
        "from tensorflow.keras.preprocessing.image import ImageDataGenerator\n",
        "from sklearn.model_selection import train_test_split\n",
        "from sklearn.preprocessing import OrdinalEncoder, OneHotEncoder\n",
        "from sklearn.utils import shuffle\n",
        "from sklearn.metrics import confusion_matrix, roc_curve, auc, classification_report\n",
        "from openpyxl import load_workbook\n",
        "\n",
        "# 🔹 Menentukan path dataset\n",
        "DATASET_PATH = \"/content/drive/Shareddrives/STORE ASYFA/Yayan/riceleafs/RiceLeafs\"\n",
        "\n",
        "# 🔹 Kelas dalam dataset\n",
        "CLASSES = [\"BrownSpot\", \"Healthy\", \"Hispa\", \"LeafBlast\"]\n",
        "\n",
        "# 🔹 Menentukan direktori penyimpanan setelah preprocessing\n",
        "PROCESSED_DATASET_NAME = \"/content/drive/Shareddrives/STORE ASYFA/Yayan/riceleafs/Rice_Leafs_Dataset_Aug_Preprocessed_224x224\"\n",
        "SAVE_PATHS = {cls: os.path.join(PROCESSED_DATASET_NAME, cls) for cls in CLASSES}\n",
        "\n",
        "# 🔹 Buat direktori penyimpanan jika belum ada\n",
        "os.makedirs(PROCESSED_DATASET_NAME, exist_ok=True)\n",
        "for cls in CLASSES:\n",
        "    os.makedirs(SAVE_PATHS[cls], exist_ok=True)\n",
        "\n",
        "print(\"✅ Path dataset dan penyimpanan preprocessing telah disiapkan!\")\n"
      ]
    },
    {
      "cell_type": "code",
      "source": [
        "# 🔹 Isi file environment_setup.py\n",
        "environment_setup_code = \"\"\"# environment_setup.py\n",
        "\n",
        "# Path ke dataset\n",
        "DATASET_PATH = \"/content/drive/Shareddrives/STORE ASYFA/Yayan/riceleafs/RiceLeafs\"\n",
        "\n",
        "# Kelas dalam dataset (ubah sesuai dengan dataset Anda)\n",
        "CLASSES = [\"Healthy\", \"Hispa\", \"BrownSpot\", \"LeafBlast\"]\n",
        "\n",
        "# Path penyimpanan setelah pemrosesan\n",
        "PROCESSED_DATASET_NAME = \"/content/drive/Shareddrives/STORE ASYFA/Yayan/riceleafs/Rice_Leafs_Dataset_Aug_Preprocessed_224x224\"\n",
        "SAVE_PATHS = {cls: f\"{PROCESSED_DATASET_NAME}/{cls}\" for cls in CLASSES}\n",
        "\"\"\"\n",
        "\n",
        "# 🔹 Membuat file environment_setup.py\n",
        "with open(\"environment_setup.py\", \"w\") as f:\n",
        "    f.write(environment_setup_code)\n",
        "\n",
        "print(\"✅ File environment_setup.py berhasil dibuat!\")\n"
      ],
      "metadata": {
        "id": "CAwuFmx3Ug1e",
        "colab": {
          "base_uri": "https://localhost:8080/"
        },
        "outputId": "756a4bb2-6ed8-47e8-bc7d-f5d0f3bdc55b"
      },
      "execution_count": 3,
      "outputs": [
        {
          "output_type": "stream",
          "name": "stdout",
          "text": [
            "✅ File environment_setup.py berhasil dibuat!\n"
          ]
        }
      ]
    },
    {
      "cell_type": "code",
      "source": [
        "import os\n",
        "import numpy as np\n",
        "from pathlib import Path\n",
        "from tqdm import tqdm\n",
        "from tensorflow.keras.preprocessing.image import load_img, img_to_array, save_img\n",
        "from tensorflow.keras.preprocessing.image import ImageDataGenerator\n",
        "\n",
        "# 🔹 Impor konfigurasi dari environment_setup.py\n",
        "from environment_setup import DATASET_PATH, CLASSES, SAVE_PATHS\n",
        "\n",
        "# 🔹 Mengecek apakah dataset tersedia\n",
        "if not os.path.exists(DATASET_PATH):\n",
        "    raise FileNotFoundError(f\"❌ Folder dataset '{DATASET_PATH}' tidak ditemukan!\")\n",
        "\n",
        "# 🔹 Mengumpulkan file gambar berdasarkan kelas\n",
        "class_filespath = {cls: [] for cls in CLASSES}\n",
        "\n",
        "for root, dirs, files in os.walk(DATASET_PATH):\n",
        "    class_name = Path(root).name\n",
        "    if class_name in class_filespath:\n",
        "        for file in files:\n",
        "            file_path = os.path.join(root, file)\n",
        "            if file.lower().endswith(('.png', '.jpg', '.jpeg')):  # Hanya gambar\n",
        "                class_filespath[class_name].append(file_path)\n",
        "\n",
        "# 🔹 Hitung jumlah gambar sebelum augmentasi\n",
        "original_counts = {cls: len(files) for cls, files in class_filespath.items()}\n",
        "print(f\"📊 Jumlah gambar sebelum augmentasi: {original_counts}\")\n",
        "\n",
        "# 🔹 Fungsi untuk mengubah gambar menjadi array dengan ukuran 224x224\n",
        "def images_to_array(filespath, img_size=224):\n",
        "    images_arr = []\n",
        "    if not filespath:\n",
        "        return images_arr\n",
        "\n",
        "    for filepath in tqdm(filespath, desc=\"📸 Processing Images\"):\n",
        "        image = load_img(filepath, color_mode=\"rgb\", target_size=(img_size, img_size))\n",
        "        image_array = img_to_array(image)\n",
        "        images_arr.append(image_array)\n",
        "\n",
        "    return np.array(images_arr, dtype=\"float32\")\n",
        "\n",
        "# 🔹 Mengonversi dataset ke dalam array\n",
        "arrays_to_save = {cls: images_to_array(class_filespath[cls]) for cls in CLASSES if class_filespath[cls]}\n",
        "\n",
        "# 🔹 Menyimpan gambar yang telah diproses\n",
        "for cls in arrays_to_save:\n",
        "    save_path_images = os.path.join(SAVE_PATHS[cls], \"images\")\n",
        "    os.makedirs(save_path_images, exist_ok=True)\n",
        "    images = arrays_to_save[cls]\n",
        "\n",
        "    for idx, image_arr in enumerate(tqdm(images, desc=f\"💾 Saving {cls} images\"), 1):\n",
        "        save_img(os.path.join(save_path_images, f\"{cls}_{idx}.jpg\"), image_arr)\n",
        "\n",
        "# 🔹 Augmentasi & Oversampling Data\n",
        "if arrays_to_save:\n",
        "    max_class = max(arrays_to_save, key=lambda cls: len(arrays_to_save[cls]))\n",
        "    max_count = len(arrays_to_save[max_class])  # Jumlah gambar kelas terbesar\n",
        "\n",
        "    datagen = ImageDataGenerator(\n",
        "        rotation_range=20,\n",
        "        width_shift_range=0.1,\n",
        "        height_shift_range=0.1,\n",
        "        shear_range=0.2,\n",
        "        zoom_range=0.2,\n",
        "        horizontal_flip=True,\n",
        "        fill_mode='nearest'\n",
        "    )\n",
        "\n",
        "    for cls in arrays_to_save:\n",
        "        save_path_images = os.path.join(SAVE_PATHS[cls], \"images\")\n",
        "        image_count = len(arrays_to_save[cls])\n",
        "\n",
        "        # 🔹 Augmentasi hanya jika jumlah gambar kurang dari kelas terbesar\n",
        "        if image_count < max_count:\n",
        "            oversample_count = max_count - image_count\n",
        "            print(f\"🔄 Augmenting '{cls}' ({image_count} ➝ {max_count})\")\n",
        "\n",
        "            images_to_augment = np.array(arrays_to_save[cls])  # Konversi list ke numpy array\n",
        "            aug_images = []\n",
        "\n",
        "            # Generator untuk augmentasi\n",
        "            aug_generator = datagen.flow(\n",
        "                images_to_augment,\n",
        "                batch_size=1,  # Augmentasi per gambar\n",
        "            )\n",
        "\n",
        "            for _ in tqdm(range(oversample_count), desc=f\"🔄 Generating augmented {cls} images\"):\n",
        "                batch = next(aug_generator)  # Ambil batch gambar dari generator\n",
        "                aug_images.append(batch[0])  # Ambil satu gambar dari batch\n",
        "\n",
        "            # Simpan hasil augmentasi\n",
        "            for idx, image_arr in enumerate(aug_images, 1):\n",
        "                save_img(os.path.join(save_path_images, f\"{cls}_aug_{idx}.jpg\"), image_arr)\n",
        "\n",
        "            print(f\"✅ {cls} selesai diaugmentasi ({image_count + len(aug_images)})\")\n",
        "\n",
        "# 🔹 Validasi jumlah gambar setelah augmentasi\n",
        "final_counts = {cls: len(os.listdir(os.path.join(SAVE_PATHS[cls], \"images\"))) for cls in CLASSES}\n",
        "print(f\"\\n📊 Jumlah gambar setelah augmentasi: {final_counts}\")\n"
      ],
      "metadata": {
        "id": "Tb0neQGuFily",
        "colab": {
          "base_uri": "https://localhost:8080/"
        },
        "outputId": "a8d96784-a2d5-4ed9-8ae2-84b22272c20a"
      },
      "execution_count": 8,
      "outputs": [
        {
          "output_type": "stream",
          "name": "stdout",
          "text": [
            "📊 Jumlah gambar sebelum augmentasi: {'Healthy': 1488, 'Hispa': 565, 'BrownSpot': 523, 'LeafBlast': 779}\n"
          ]
        },
        {
          "output_type": "stream",
          "name": "stderr",
          "text": [
            "📸 Processing Images: 100%|██████████| 1488/1488 [03:00<00:00,  8.26it/s]\n",
            "📸 Processing Images: 100%|██████████| 565/565 [01:00<00:00,  9.33it/s]\n",
            "📸 Processing Images: 100%|██████████| 523/523 [00:58<00:00,  8.93it/s]\n",
            "📸 Processing Images: 100%|██████████| 779/779 [01:11<00:00, 10.95it/s]\n",
            "💾 Saving Healthy images: 100%|██████████| 1488/1488 [00:18<00:00, 81.17it/s]\n",
            "💾 Saving Hispa images: 100%|██████████| 565/565 [00:07<00:00, 79.81it/s]\n",
            "💾 Saving BrownSpot images: 100%|██████████| 523/523 [00:06<00:00, 75.81it/s]\n",
            "💾 Saving LeafBlast images: 100%|██████████| 779/779 [00:09<00:00, 83.69it/s]\n"
          ]
        },
        {
          "output_type": "stream",
          "name": "stdout",
          "text": [
            "🔄 Augmenting 'Hispa' (565 ➝ 1488)\n"
          ]
        },
        {
          "output_type": "stream",
          "name": "stderr",
          "text": [
            "🔄 Generating augmented Hispa images: 100%|██████████| 923/923 [00:12<00:00, 73.93it/s]\n"
          ]
        },
        {
          "output_type": "stream",
          "name": "stdout",
          "text": [
            "✅ Hispa selesai diaugmentasi (1488)\n",
            "🔄 Augmenting 'BrownSpot' (523 ➝ 1488)\n"
          ]
        },
        {
          "output_type": "stream",
          "name": "stderr",
          "text": [
            "🔄 Generating augmented BrownSpot images: 100%|██████████| 965/965 [00:14<00:00, 68.00it/s]\n"
          ]
        },
        {
          "output_type": "stream",
          "name": "stdout",
          "text": [
            "✅ BrownSpot selesai diaugmentasi (1488)\n",
            "🔄 Augmenting 'LeafBlast' (779 ➝ 1488)\n"
          ]
        },
        {
          "output_type": "stream",
          "name": "stderr",
          "text": [
            "🔄 Generating augmented LeafBlast images: 100%|██████████| 709/709 [00:09<00:00, 71.68it/s]\n"
          ]
        },
        {
          "output_type": "stream",
          "name": "stdout",
          "text": [
            "✅ LeafBlast selesai diaugmentasi (1488)\n",
            "\n",
            "📊 Jumlah gambar setelah augmentasi: {'Healthy': 1488, 'Hispa': 1488, 'BrownSpot': 1488, 'LeafBlast': 1488}\n"
          ]
        }
      ]
    },
    {
      "cell_type": "code",
      "source": [
        "import os\n",
        "import matplotlib.pyplot as plt\n",
        "from environment_setup import CLASSES, SAVE_PATHS\n",
        "\n",
        "# 🔹 Hitung jumlah gambar setelah augmentasi\n",
        "augmented_counts = {cls: len(os.listdir(os.path.join(SAVE_PATHS[cls], \"images\"))) for cls in CLASSES}\n",
        "\n",
        "# 🔹 Menampilkan grafik sebelum & sesudah augmentasi\n",
        "def plot_data_distribution(original_counts, augmented_counts):\n",
        "    fig, axes = plt.subplots(1, 2, figsize=(12, 5))\n",
        "\n",
        "    # 🔹 Grafik sebelum augmentasi\n",
        "    axes[0].bar(original_counts.keys(), original_counts.values(), color='skyblue')\n",
        "    axes[0].set_title(\"Jumlah Gambar Sebelum Augmentasi\")\n",
        "    axes[0].set_xlabel(\"Kelas\")\n",
        "    axes[0].set_ylabel(\"Jumlah Gambar\")\n",
        "    axes[0].set_xticklabels(CLASSES, rotation=30)\n",
        "\n",
        "    # 🔹 Grafik setelah augmentasi\n",
        "    axes[1].bar(augmented_counts.keys(), augmented_counts.values(), color='lightcoral')\n",
        "    axes[1].set_title(\"Jumlah Gambar Setelah Augmentasi\")\n",
        "    axes[1].set_xlabel(\"Kelas\")\n",
        "    axes[1].set_ylabel(\"Jumlah Gambar\")\n",
        "    axes[1].set_xticklabels(CLASSES, rotation=30)\n",
        "\n",
        "    plt.tight_layout()\n",
        "    plt.show()\n",
        "\n",
        "# 🔹 Panggil fungsi plotting\n",
        "plot_data_distribution(original_counts, augmented_counts)\n"
      ],
      "metadata": {
        "id": "d-lCXxxvaNjh",
        "colab": {
          "base_uri": "https://localhost:8080/",
          "height": 494
        },
        "outputId": "76197c32-8ab3-4dc5-d296-7668e1d75416"
      },
      "execution_count": 9,
      "outputs": [
        {
          "output_type": "stream",
          "name": "stderr",
          "text": [
            "<ipython-input-9-47ca1be39eb8>:17: UserWarning: set_ticklabels() should only be used with a fixed number of ticks, i.e. after set_ticks() or using a FixedLocator.\n",
            "  axes[0].set_xticklabels(CLASSES, rotation=30)\n",
            "<ipython-input-9-47ca1be39eb8>:24: UserWarning: set_ticklabels() should only be used with a fixed number of ticks, i.e. after set_ticks() or using a FixedLocator.\n",
            "  axes[1].set_xticklabels(CLASSES, rotation=30)\n"
          ]
        },
        {
          "output_type": "display_data",
          "data": {
            "text/plain": [
              "<Figure size 1200x500 with 2 Axes>"
            ],
            "image/png": "[encoded data removed]"
          },
          "metadata": {}
        }
      ]
    },
    {
      "cell_type": "code",
      "source": [
        "import os\n",
        "import pandas as pd\n",
        "from sklearn.preprocessing import OneHotEncoder\n",
        "from sklearn.utils import shuffle\n",
        "from tqdm import tqdm\n",
        "from environment_setup import DATASET_PATH, CLASSES  # Impor variabel lingkungan\n",
        "\n",
        "# 🔹 Path ke folder Train & Validation\n",
        "TRAIN_PATH = os.path.join(DATASET_PATH, \"train\")\n",
        "VAL_PATH = os.path.join(DATASET_PATH, \"validation\")\n",
        "\n",
        "# 🔹 Menyimpan path gambar dan label\n",
        "train_images_path, val_images_path = [], []\n",
        "train_labels, val_labels = [], []\n",
        "\n",
        "# 🔹 Fungsi untuk mengumpulkan gambar dari folder\n",
        "def collect_images(folder_path, label_storage, image_storage):\n",
        "    for label in CLASSES:\n",
        "        label_path = os.path.join(folder_path, label)\n",
        "\n",
        "        if not os.path.exists(label_path):\n",
        "            print(f\"⚠️ Folder tidak ditemukan: {label_path}\")\n",
        "            continue\n",
        "\n",
        "        image_files = [\n",
        "            os.path.join(label_path, f)\n",
        "            for f in os.listdir(label_path)\n",
        "            if f.lower().endswith(('.png', '.jpg', '.jpeg'))\n",
        "        ]\n",
        "\n",
        "        if len(image_files) == 0:\n",
        "            print(f\"⚠️ Tidak ada gambar di kelas '{label}', dilewati.\")\n",
        "            continue\n",
        "\n",
        "        image_storage.extend(image_files)\n",
        "        label_storage.extend([label] * len(image_files))\n",
        "\n",
        "# 🔹 Mengumpulkan data train dan validation\n",
        "collect_images(TRAIN_PATH, train_labels, train_images_path)\n",
        "collect_images(VAL_PATH, val_labels, val_images_path)\n",
        "\n",
        "# 🔹 One-Hot Encoding untuk label\n",
        "one_hot_enc = OneHotEncoder(sparse_output=False, handle_unknown='ignore')\n",
        "train_labels_onehot = one_hot_enc.fit_transform([[lbl] for lbl in train_labels])\n",
        "val_labels_onehot = one_hot_enc.transform([[lbl] for lbl in val_labels])\n",
        "\n",
        "# 🔹 Mengacak data train untuk menghindari bias\n",
        "train_images_path, train_labels, train_labels_onehot = shuffle(\n",
        "    train_images_path, train_labels, train_labels_onehot, random_state=42\n",
        ")\n",
        "\n",
        "# 🔹 Print hasil pemrosesan\n",
        "print(\"\\n✅ Dataset berhasil diproses!\")\n",
        "print(f\"🔹 Jumlah gambar Train     : {len(train_images_path)}\")\n",
        "print(f\"🔹 Jumlah gambar Validation: {len(val_images_path)}\")\n"
      ],
      "metadata": {
        "id": "2LP3-3YDFojZ",
        "colab": {
          "base_uri": "https://localhost:8080/"
        },
        "outputId": "f3bd473d-c676-4e3b-e67b-867c82d940db"
      },
      "execution_count": 13,
      "outputs": [
        {
          "output_type": "stream",
          "name": "stdout",
          "text": [
            "\n",
            "✅ Dataset berhasil diproses!\n",
            "🔹 Jumlah gambar Train     : 2684\n",
            "🔹 Jumlah gambar Validation: 671\n"
          ]
        }
      ]
    },
    {
      "cell_type": "code",
      "source": [
        "import os\n",
        "import pandas as pd\n",
        "from sklearn.model_selection import KFold\n",
        "from environment_setup import CLASSES  # Ambil daftar kelas\n",
        "\n",
        "# Menentukan parameter\n",
        "N_SPLITS = 5\n",
        "OUTPUT_FILE = \"dataset_splits.xlsx\"\n",
        "\n",
        "# K-Fold Split\n",
        "kf = KFold(n_splits=N_SPLITS, shuffle=True, random_state=42)\n",
        "\n",
        "with pd.ExcelWriter(OUTPUT_FILE, engine=\"xlsxwriter\") as writer_excel:\n",
        "    for i, (train_idx, val_idx) in enumerate(kf.split(train_images_path), start=1):\n",
        "        fold_train_images = [train_images_path[idx] for idx in train_idx]\n",
        "        fold_val_images = [train_images_path[idx] for idx in val_idx]\n",
        "\n",
        "        fold_train_labels = [train_labels[idx] for idx in train_idx]\n",
        "        fold_val_labels = [train_labels[idx] for idx in val_idx]\n",
        "\n",
        "        fold_train_labels_onehot = train_labels_onehot[train_idx]\n",
        "        fold_val_labels_onehot = train_labels_onehot[val_idx]\n",
        "\n",
        "        # Membuat DataFrame Train & Validation\n",
        "        def create_dataframe(image_paths, labels, one_hot_labels):\n",
        "            df = pd.DataFrame({\n",
        "                \"image_path\": image_paths,\n",
        "                \"label\": labels\n",
        "            })\n",
        "            for j, class_name in enumerate(CLASSES):  # Loop untuk one-hot encoding kolom dinamis\n",
        "                df[class_name] = one_hot_labels[:, j]\n",
        "            return df\n",
        "\n",
        "        train_df = create_dataframe(fold_train_images, fold_train_labels, fold_train_labels_onehot)\n",
        "        val_df = create_dataframe(fold_val_images, fold_val_labels, fold_val_labels_onehot)\n",
        "\n",
        "        # Menyimpan ke Excel\n",
        "        train_df.to_excel(writer_excel, sheet_name=f\"Fold_{i}_Train\", index=False)\n",
        "        val_df.to_excel(writer_excel, sheet_name=f\"Fold_{i}_Val\", index=False)\n",
        "\n",
        "print(f\"✅ Data split telah disimpan di {OUTPUT_FILE}\")\n"
      ],
      "metadata": {
        "id": "68LikH78FwX-",
        "colab": {
          "base_uri": "https://localhost:8080/"
        },
        "outputId": "735a206c-fc3a-4313-d542-f53b876b6dd8"
      },
      "execution_count": 16,
      "outputs": [
        {
          "output_type": "stream",
          "name": "stdout",
          "text": [
            "✅ Data split telah disimpan di dataset_splits.xlsx\n"
          ]
        }
      ]
    },
    {
      "cell_type": "code",
      "source": [
        "import numpy as np\n",
        "import pandas as pd\n",
        "from tqdm import tqdm\n",
        "from tensorflow.keras.preprocessing.image import load_img, img_to_array\n",
        "\n",
        "# Konstanta (sesuaikan dengan kebutuhan)\n",
        "EXCEL_FILENAME = \"dataset_splits.xlsx\"  # Nama file Excel yang digunakan\n",
        "IMG_SIZE = 224  # Ukuran gambar yang diinginkan\n",
        "LABEL_COLUMNS = ['Healthy', 'Hispa', 'BrownSpot', 'LeafBlast']  # Nama label yang benar\n",
        "\n",
        "def getArrFromExcel(sheet_name):\n",
        "    \"\"\"\n",
        "    Membaca dataset dari file Excel dan mengonversinya menjadi array gambar dan label.\n",
        "\n",
        "    Parameters:\n",
        "        sheet_name (str): Nama sheet dalam file Excel yang akan dibaca.\n",
        "\n",
        "    Returns:\n",
        "        tuple: (numpy.ndarray dari gambar, numpy.ndarray dari label)\n",
        "    \"\"\"\n",
        "    try:\n",
        "        # Membaca file Excel\n",
        "        df = pd.read_excel(EXCEL_FILENAME, sheet_name=sheet_name)\n",
        "        print(f\"✅ Sheet '{sheet_name}' berhasil dibaca.\")\n",
        "\n",
        "        # Menampilkan kolom yang tersedia\n",
        "        print(f\"📊 Kolom yang ditemukan di dataset: {list(df.columns)}\")\n",
        "\n",
        "        # Periksa apakah kolom one-hot ada\n",
        "        if not all(col in df.columns for col in LABEL_COLUMNS):\n",
        "            print(f\"⚠️ Kolom label one-hot tidak ditemukan. Periksa kembali file Excel!\")\n",
        "            return None, None\n",
        "\n",
        "        # Mengambil path gambar dan label one-hot\n",
        "        images_path = df[\"image_path\"].values\n",
        "        labels = df[LABEL_COLUMNS].values  # Menggunakan label yang benar\n",
        "\n",
        "        # Menyimpan array gambar\n",
        "        images_arr = []\n",
        "\n",
        "        for image_path in tqdm(images_path, desc=\"📸 Loading Images\"):\n",
        "            try:\n",
        "                img = load_img(image_path, target_size=(IMG_SIZE, IMG_SIZE))\n",
        "                images_arr.append(img_to_array(img))\n",
        "            except Exception as e:\n",
        "                print(f\"❌ Error loading image {image_path}: {e}\")\n",
        "\n",
        "        print(f\"✅ Dataset dari '{sheet_name}' berhasil dikonversi!\")\n",
        "        return np.array(images_arr, dtype=\"float32\"), np.array(labels, dtype=\"float32\")\n",
        "\n",
        "    except Exception as e:\n",
        "        print(f\"❌ Error membaca file Excel: {e}\")\n",
        "        return None, None\n",
        "\n",
        "# Contoh penggunaan\n",
        "images, labels = getArrFromExcel(\"Fold_1_Train\")\n",
        "\n",
        "if images is not None and labels is not None:\n",
        "    print(f\"✅ Dataset berhasil dimuat: Gambar {images.shape}, Label {labels.shape}\")\n",
        "else:\n",
        "    print(\"⚠️ Terjadi kesalahan saat memuat dataset.\")\n"
      ],
      "metadata": {
        "colab": {
          "base_uri": "https://localhost:8080/"
        },
        "id": "RdVLaNQoodDJ",
        "outputId": "6172476e-51f3-4414-e0a8-f25e583f1359"
      },
      "execution_count": 21,
      "outputs": [
        {
          "output_type": "stream",
          "name": "stdout",
          "text": [
            "✅ Sheet 'Fold_1_Train' berhasil dibaca.\n",
            "📊 Kolom yang ditemukan di dataset: ['image_path', 'label', 'Healthy', 'Hispa', 'BrownSpot', 'LeafBlast']\n"
          ]
        },
        {
          "output_type": "stream",
          "name": "stderr",
          "text": [
            "📸 Loading Images: 100%|██████████| 2147/2147 [03:48<00:00,  9.38it/s]\n"
          ]
        },
        {
          "output_type": "stream",
          "name": "stdout",
          "text": [
            "✅ Dataset dari 'Fold_1_Train' berhasil dikonversi!\n",
            "✅ Dataset berhasil dimuat: Gambar (2147, 224, 224, 3), Label (2147, 4)\n"
          ]
        }
      ]
    },
    {
      "cell_type": "code",
      "source": [
        "import tensorflow as tf\n",
        "from tensorflow.keras import layers, applications\n",
        "\n",
        "# Konstanta\n",
        "IMG_SIZE = 224\n",
        "NUM_CLASSES = 4\n",
        "\n",
        "def build_scratch_model():\n",
        "    \"\"\"Model tanpa transfer learning (train from scratch)\"\"\"\n",
        "    base_model = applications.MobileNetV2(include_top=False, input_shape=(IMG_SIZE, IMG_SIZE, 3), weights=None)\n",
        "    base_model.trainable = True\n",
        "    return tf.keras.Sequential([\n",
        "        base_model, layers.GlobalAveragePooling2D(), layers.Dense(512, activation=\"relu\"), layers.Dense(NUM_CLASSES, activation=\"softmax\")\n",
        "    ])\n",
        "\n",
        "def build_fixed_feature_extraction_model():\n",
        "    \"\"\"Transfer Learning - Fixed Feature Extraction\"\"\"\n",
        "    base_model = applications.MobileNetV2(include_top=False, input_shape=(IMG_SIZE, IMG_SIZE, 3), weights=\"imagenet\")\n",
        "    base_model.trainable = False\n",
        "    return tf.keras.Sequential([\n",
        "        base_model, layers.GlobalAveragePooling2D(), layers.Dense(512, activation=\"relu\"), layers.Dense(NUM_CLASSES, activation=\"softmax\")\n",
        "    ])\n",
        "\n",
        "def build_finetune_first_layer():\n",
        "    \"\"\"Transfer Learning - Fine-Tuning First Layer\"\"\"\n",
        "    base_model = applications.MobileNetV2(include_top=False, input_shape=(IMG_SIZE, IMG_SIZE, 3), weights=\"imagenet\")\n",
        "    base_model.trainable = False\n",
        "    base_model.layers[0].trainable = True  # Unfreeze first layer\n",
        "    return tf.keras.Sequential([\n",
        "        base_model, layers.GlobalAveragePooling2D(), layers.Dense(512, activation=\"relu\"), layers.Dense(NUM_CLASSES, activation=\"softmax\")\n",
        "    ])\n",
        "\n",
        "def build_finetune_middle_layer():\n",
        "    \"\"\"Transfer Learning - Fine-Tuning Middle Layer\"\"\"\n",
        "    base_model = applications.MobileNetV2(include_top=False, input_shape=(IMG_SIZE, IMG_SIZE, 3), weights=\"imagenet\")\n",
        "    base_model.trainable = False\n",
        "    total_layers = len(base_model.layers)\n",
        "    middle_layer_index = total_layers // 2  # Ambil indeks tengah\n",
        "\n",
        "    # Fine-tune sekitar 10 layer di tengah\n",
        "    fine_tune_range = 5  # Bisa diubah sesuai kebutuhan\n",
        "    for layer in base_model.layers[middle_layer_index - fine_tune_range : middle_layer_index + fine_tune_range]:\n",
        "        layer.trainable = True\n",
        "\n",
        "    return tf.keras.Sequential([\n",
        "        base_model, layers.GlobalAveragePooling2D(), layers.Dense(512, activation=\"relu\"), layers.Dense(NUM_CLASSES, activation=\"softmax\")\n",
        "    ])\n",
        "\n",
        "def build_finetune_last_layer(ft_layers=25):\n",
        "    \"\"\"Transfer Learning - Fine-Tuning Last Layer\"\"\"\n",
        "    base_model = applications.MobileNetV2(include_top=False, input_shape=(IMG_SIZE, IMG_SIZE, 3), weights=\"imagenet\")\n",
        "    base_model.trainable = False\n",
        "    for layer in base_model.layers[-ft_layers:]: layer.trainable = True  # Unfreeze last N layers\n",
        "    return tf.keras.Sequential([\n",
        "        base_model, layers.GlobalAveragePooling2D(), layers.Dense(512, activation=\"relu\"), layers.Dense(NUM_CLASSES, activation=\"softmax\")\n",
        "    ])\n",
        "\n",
        "# Inisialisasi model\n",
        "models = {\n",
        "    \"Scratch\": build_scratch_model(),\n",
        "    \"Fixed_Feature\": build_fixed_feature_extraction_model(),\n",
        "    \"Fine_Tune_First\": build_finetune_first_layer(),\n",
        "    \"Fine_Tune_Middle\": build_finetune_middle_layer(),\n",
        "    \"Fine_Tune_Last\": build_finetune_last_layer()\n",
        "}\n",
        "\n",
        "# Kompilasi model\n",
        "for name, model in models.items():\n",
        "    model.compile(optimizer=\"adam\", loss=\"categorical_crossentropy\", metrics=[\"accuracy\"])\n",
        "    print(f\"✅ Model '{name}' siap untuk dilatih!\")\n"
      ],
      "metadata": {
        "colab": {
          "base_uri": "https://localhost:8080/"
        },
        "id": "iLqXUZZXogMR",
        "outputId": "02f874ce-d421-42d5-c7c8-9272ee015995"
      },
      "execution_count": 22,
      "outputs": [
        {
          "output_type": "stream",
          "name": "stdout",
          "text": [
            "Downloading data from https://storage.googleapis.com/tensorflow/keras-applications/mobilenet_v2/mobilenet_v2_weights_tf_dim_ordering_tf_kernels_1.0_224_no_top.h5\n",
            "\u001b[1m9406464/9406464\u001b[0m \u001b[32m━━━━━━━━━━━━━━━━━━━━\u001b[0m\u001b[37m\u001b[0m \u001b[1m0s\u001b[0m 0us/step\n",
            "✅ Model 'Scratch' siap untuk dilatih!\n",
            "✅ Model 'Fixed_Feature' siap untuk dilatih!\n",
            "✅ Model 'Fine_Tune_First' siap untuk dilatih!\n",
            "✅ Model 'Fine_Tune_Middle' siap untuk dilatih!\n",
            "✅ Model 'Fine_Tune_Last' siap untuk dilatih!\n"
          ]
        }
      ]
    },
    {
      "cell_type": "code",
      "source": [
        "import os\n",
        "import numpy as np\n",
        "import pandas as pd\n",
        "import tensorflow as tf\n",
        "from tensorflow import keras\n",
        "from tensorflow.keras.models import Model\n",
        "from tensorflow.keras.layers import Dense, GlobalAveragePooling2D, Dropout\n",
        "from tensorflow.keras.preprocessing.image import load_img, img_to_array\n",
        "from tensorflow.keras.applications import MobileNetV2\n",
        "from tensorflow.keras.callbacks import EarlyStopping, ModelCheckpoint, CSVLogger, Callback\n",
        "from sklearn.model_selection import KFold\n",
        "from tqdm import tqdm\n",
        "\n",
        "# ✅ Gunakan MirroredStrategy dengan cara yang benar\n",
        "STRATEGY = tf.distribute.MirroredStrategy()\n",
        "print(\"✅ MirroredStrategy berhasil digunakan!\")\n",
        "\n",
        "# Konfigurasi\n",
        "NUM_CLASSES, IMG_SIZE, LR, BATCH_SIZE, EPOCHS = 4, 300, 0.0001, 32, 50\n",
        "OUTPUT_FILE = \"dataset_splits.xlsx\"\n",
        "KFOLDS = 5\n",
        "\n",
        "# ✅ Callback untuk menghitung waktu per epoch\n",
        "class TimingCallback(Callback):\n",
        "    def __init__(self):\n",
        "        self.logs = []\n",
        "    def on_epoch_begin(self, epoch, logs=None):\n",
        "        self.starttime = tf.timestamp()\n",
        "    def on_epoch_end(self, epoch, logs=None):\n",
        "        self.logs.append(float(tf.timestamp() - self.starttime))\n",
        "\n",
        "# ✅ Fungsi membaca dataset dari Excel\n",
        "def getArrFromExcel(sheet_name):\n",
        "    df = pd.read_excel(OUTPUT_FILE, sheet_name=sheet_name)\n",
        "    print(f\"✅ Sheet '{sheet_name}' berhasil dibaca.\")\n",
        "\n",
        "    # Pastikan semua kolom tersedia\n",
        "    print(f\"📊 Kolom yang ditemukan di dataset: {list(df.columns)}\")\n",
        "\n",
        "    if \"image_path\" not in df.columns:\n",
        "        raise KeyError(\"❌ Kolom 'image_path' tidak ditemukan dalam dataset!\")\n",
        "\n",
        "    # Cek kolom one-hot encoding berdasarkan nama selain image_path dan label\n",
        "    label_columns = [col for col in df.columns if col not in [\"image_path\", \"label\"]]\n",
        "    if not label_columns:\n",
        "        raise KeyError(\"⚠️ Kolom label one-hot tidak ditemukan. Periksa kembali file Excel!\")\n",
        "\n",
        "    images_path = df[\"image_path\"].values\n",
        "    labels = df[label_columns].values\n",
        "\n",
        "    images_arr = []\n",
        "    for image_path in tqdm(images_path, desc=f\"📸 Loading {sheet_name}\"):\n",
        "        try:\n",
        "            img = load_img(image_path, target_size=(IMG_SIZE, IMG_SIZE))\n",
        "            images_arr.append(img_to_array(img))\n",
        "        except Exception as e:\n",
        "            print(f\"❌ Error loading {image_path}: {e}\")\n",
        "\n",
        "    return np.array(images_arr, dtype=\"float32\"), np.array(labels, dtype=\"float32\")\n",
        "\n",
        "# ✅ Fungsi membangun model\n",
        "def build_model(mode=\"no_tl\"):\n",
        "    base_model = MobileNetV2(input_shape=(IMG_SIZE, IMG_SIZE, 3), include_top=False, weights=\"imagenet\" if \"tl\" in mode else None)\n",
        "\n",
        "    if mode == \"tl_fixed\":\n",
        "        base_model.trainable = False\n",
        "    elif mode == \"tl_first\":\n",
        "        for layer in base_model.layers[:10]:\n",
        "            layer.trainable = True\n",
        "    elif mode == \"tl_middle\":\n",
        "        mid_layer = len(base_model.layers) // 2\n",
        "        for layer in base_model.layers[mid_layer-10:mid_layer+10]:\n",
        "            layer.trainable = True\n",
        "    elif mode == \"tl_last\":\n",
        "        for layer in base_model.layers[-10:]:\n",
        "            layer.trainable = True\n",
        "    else:\n",
        "        base_model.trainable = True\n",
        "\n",
        "    x = GlobalAveragePooling2D()(base_model.output)\n",
        "    x = Dropout(0.5)(x)\n",
        "    output_layer = Dense(NUM_CLASSES, activation='softmax')(x)\n",
        "\n",
        "    model = Model(inputs=base_model.input, outputs=output_layer)\n",
        "    model.compile(optimizer=keras.optimizers.Adam(learning_rate=LR),\n",
        "                  loss='categorical_crossentropy',\n",
        "                  metrics=['accuracy'])\n",
        "    return model\n",
        "\n",
        "# ✅ Training dengan K-Fold\n",
        "for mode in [\"no_tl\", \"tl_fixed\", \"tl_first\", \"tl_middle\", \"tl_last\"]:\n",
        "    drive_path = f\"Training/MobileNetV2-{mode}\"\n",
        "    os.makedirs(drive_path, exist_ok=True)\n",
        "\n",
        "    # ✅ Ambil dataset sekali saja\n",
        "    train_images, train_labels = getArrFromExcel(\"Fold_1_Train\")\n",
        "\n",
        "    kf = KFold(n_splits=KFOLDS, shuffle=True, random_state=42)\n",
        "\n",
        "    for fold, (train_idx, val_idx) in enumerate(kf.split(train_images), start=1):\n",
        "        train_images_fold, val_images_fold = train_images[train_idx], train_images[val_idx]\n",
        "        train_labels_fold, val_labels_fold = train_labels[train_idx], train_labels[val_idx]\n",
        "\n",
        "        csv_logger_filename = os.path.join(drive_path, f\"csv_logger_fold_{fold}.csv\")\n",
        "        model_checkpoint_filename = os.path.join(drive_path, f\"model_fold_{fold}.h5\")\n",
        "\n",
        "        callbacks = [\n",
        "            CSVLogger(csv_logger_filename),\n",
        "            TimingCallback(),\n",
        "            ModelCheckpoint(filepath=model_checkpoint_filename, save_best_only=True, monitor='val_accuracy', mode='max', verbose=1),\n",
        "            EarlyStopping(monitor='val_accuracy', patience=10, mode='max', verbose=1)\n",
        "        ]\n",
        "\n",
        "        with STRATEGY.scope():\n",
        "            model = build_model(mode)\n",
        "            model.fit(train_images_fold, train_labels_fold,\n",
        "                      validation_data=(val_images_fold, val_labels_fold),\n",
        "                      batch_size=BATCH_SIZE,\n",
        "                      epochs=EPOCHS,\n",
        "                      callbacks=callbacks)\n",
        "\n",
        "print(\"✅ Training selesai!\")\n"
      ],
      "metadata": {
        "colab": {
          "base_uri": "https://localhost:8080/"
        },
        "id": "L0KPRzu_r-4_",
        "outputId": "f1b26363-4046-4aee-9f0e-25fc8e2e8196"
      },
      "execution_count": null,
      "outputs": [
        {
          "output_type": "stream",
          "name": "stdout",
          "text": [
            "✅ MirroredStrategy berhasil digunakan!\n",
            "✅ Sheet 'Fold_1_Train' berhasil dibaca.\n",
            "📊 Kolom yang ditemukan di dataset: ['image_path', 'label', 'Healthy', 'Hispa', 'BrownSpot', 'LeafBlast']\n"
          ]
        },
        {
          "output_type": "stream",
          "name": "stderr",
          "text": [
            "📸 Loading Fold_1_Train:   4%|▎         | 80/2147 [00:18<06:52,  5.01it/s]"
          ]
        }
      ]
    }
  ]
}